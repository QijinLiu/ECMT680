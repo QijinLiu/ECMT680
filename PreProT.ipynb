{
 "cells": [
  {
   "cell_type": "code",
   "execution_count": 3,
   "metadata": {},
   "outputs": [],
   "source": [
    "import pandas as pd\n",
    "\n",
    "# 加载数据\n",
    "data_path = \"E:/680_temp3.18DID/data/VZ_mw_state_quarterly_new.dta\"  # 根据实际路径调整\n",
    "df = pd.read_stata(data_path)\n"
   ]
  },
  {
   "cell_type": "code",
   "execution_count": 5,
   "metadata": {},
   "outputs": [],
   "source": [
    "# 假设quarterly_date已经是Timestamp类型\n",
    "# 直接提取年份和季度\n",
    "df['year'] = df['quarterly_date'].dt.year\n",
    "df['quarter'] = df['quarterly_date'].dt.quarter\n"
   ]
  },
  {
   "cell_type": "code",
   "execution_count": 6,
   "metadata": {},
   "outputs": [],
   "source": [
    "# 对每个州，根据年份和季度排序后计算最低工资（max_mw）的变化\n",
    "df.sort_values(by=['statefips', 'year', 'quarter'], inplace=True)\n",
    "df['mw_change'] = df.groupby('statefips')['max_mw'].diff().fillna(0)\n"
   ]
  },
  {
   "cell_type": "code",
   "execution_count": 7,
   "metadata": {},
   "outputs": [],
   "source": [
    "# 定义处理变量T：最低工资提升为1，否则为0\n",
    "df['T'] = (df['mw_change'] > 0).astype(int)\n"
   ]
  },
  {
   "cell_type": "code",
   "execution_count": 8,
   "metadata": {},
   "outputs": [
    {
     "name": "stdout",
     "output_type": "stream",
     "text": [
      "T\n",
      "0    7917\n",
      "1     855\n",
      "Name: count, dtype: int64\n"
     ]
    }
   ],
   "source": [
    "# 检查T变量的分布情况\n",
    "print(df['T'].value_counts())\n",
    "\n",
    "# 保存处理后的数据\n",
    "processed_data_path = \"E:/680_temp3.18DID/processed_VZ_mw_data.csv\"  # 根据实际路径调整\n",
    "df.to_csv(processed_data_path, index=False)\n"
   ]
  }
 ],
 "metadata": {
  "kernelspec": {
   "display_name": "Python 3",
   "language": "python",
   "name": "python3"
  },
  "language_info": {
   "codemirror_mode": {
    "name": "ipython",
    "version": 3
   },
   "file_extension": ".py",
   "mimetype": "text/x-python",
   "name": "python",
   "nbconvert_exporter": "python",
   "pygments_lexer": "ipython3",
   "version": "3.8.0"
  }
 },
 "nbformat": 4,
 "nbformat_minor": 2
}
