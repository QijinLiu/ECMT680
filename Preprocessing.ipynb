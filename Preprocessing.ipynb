{
 "cells": [
  {
   "cell_type": "code",
   "execution_count": 5,
   "metadata": {},
   "outputs": [],
   "source": [
    "import pandas as pd\n",
    "import numpy as np\n",
    "from datetime import datetime\n",
    "\n"
   ]
  },
  {
   "cell_type": "code",
   "execution_count": 6,
   "metadata": {},
   "outputs": [],
   "source": [
    "# 加载个体层面的数据\n",
    "individual_ddf = pd.read_stata(\"E:/680_temp3.18DID/data/totransfer.dta\")\n",
    "\n",
    "# 加载 CPI 数据\n",
    "cpi_ddf = pd.read_stata(\"E:/680_temp3.18DID/data/cpiursai1977-2016.dta\")\n",
    "\n"
   ]
  },
  {
   "cell_type": "code",
   "execution_count": null,
   "metadata": {},
   "outputs": [],
   "source": [
    "#\n",
    "cpi_data = pd.read_stata(\"E:/680_temp3.18DID/data/cpiursai1977-2016.dta\")\n",
    "\n",
    "# 处理 CPI 数据，假设 CSV 格式的列名和 Stata do 文件保持一致\n",
    "cpi_data = cpi_data.drop(['v14', 'avg'], axis=1)\n",
    "cpi_data = cpi_data.melt(id_vars=[\"year\"], var_name=\"month\", value_name=\"cpi\")\n",
    "cpi_data = cpi_data[cpi_data['year'] >= 1979]\n",
    "\n",
    "# 设置基年为2016的CPI\n",
    "base_year_cpi = cpi_data[cpi_data['year'] == 2016]['cpi'].mean()\n",
    "cpi_data['cpi'] = 100 * cpi_data['cpi'] / base_year_cpi\n",
    "\n",
    "# 生成 monthdate\n",
    "cpi_data['monthdate'] = pd.to_datetime(cpi_data.assign(day=1).loc[:, ['year', 'month', 'day']])\n"
   ]
  },
  {
   "cell_type": "code",
   "execution_count": null,
   "metadata": {},
   "outputs": [],
   "source": [
    "# 首先，确保个体数据中有 monthdate 字段\n",
    "# 这需要基于你的数据结构来生成 monthdate 字段\n",
    "# 例如，如果你有年和月的列：\n",
    "individual_data['monthdate'] = pd.to_datetime(individual_data.assign(day=1)[['year', 'month', 'day']])\n",
    "\n",
    "# 合并 CPI 数据\n",
    "individual_data = individual_data.merge(cpi_data[['monthdate', 'cpi']], on='monthdate', how='left')\n",
    "\n",
    "# 调整工资以反映通货膨胀影响\n",
    "individual_data['adjusted_wage'] = individual_data['earnhr'] / (individual_data['cpi'] / 100)\n"
   ]
  },
  {
   "cell_type": "code",
   "execution_count": 4,
   "metadata": {},
   "outputs": [
    {
     "ename": "NameError",
     "evalue": "name 'individual_data' is not defined",
     "output_type": "error",
     "traceback": [
      "\u001b[1;31m---------------------------------------------------------------------------\u001b[0m",
      "\u001b[1;31mNameError\u001b[0m                                 Traceback (most recent call last)",
      "\u001b[1;32m~\\AppData\\Local\\Temp/ipykernel_13256/3342822376.py\u001b[0m in \u001b[0;36m<module>\u001b[1;34m\u001b[0m\n\u001b[0;32m      1\u001b[0m \u001b[1;31m# 排除自雇工作者\u001b[0m\u001b[1;33m\u001b[0m\u001b[1;33m\u001b[0m\u001b[1;33m\u001b[0m\u001b[0m\n\u001b[1;32m----> 2\u001b[1;33m \u001b[0mindividual_data\u001b[0m \u001b[1;33m=\u001b[0m \u001b[0mindividual_data\u001b[0m\u001b[1;33m[\u001b[0m\u001b[1;33m(\u001b[0m\u001b[0mindividual_data\u001b[0m\u001b[1;33m[\u001b[0m\u001b[1;34m'class'\u001b[0m\u001b[1;33m]\u001b[0m \u001b[1;33m!=\u001b[0m \u001b[1;36m5\u001b[0m\u001b[1;33m)\u001b[0m \u001b[1;33m&\u001b[0m \u001b[1;33m(\u001b[0m\u001b[0mindividual_data\u001b[0m\u001b[1;33m[\u001b[0m\u001b[1;34m'class'\u001b[0m\u001b[1;33m]\u001b[0m \u001b[1;33m!=\u001b[0m \u001b[1;36m6\u001b[0m\u001b[1;33m)\u001b[0m \u001b[1;33m|\u001b[0m \u001b[1;33m(\u001b[0m\u001b[0mindividual_data\u001b[0m\u001b[1;33m[\u001b[0m\u001b[1;34m'year'\u001b[0m\u001b[1;33m]\u001b[0m \u001b[1;33m>\u001b[0m \u001b[1;36m1993\u001b[0m\u001b[1;33m)\u001b[0m\u001b[1;33m]\u001b[0m\u001b[1;33m\u001b[0m\u001b[1;33m\u001b[0m\u001b[0m\n\u001b[0m\u001b[0;32m      3\u001b[0m \u001b[1;33m\u001b[0m\u001b[0m\n\u001b[0;32m      4\u001b[0m \u001b[1;31m# 处理工资数据\u001b[0m\u001b[1;33m\u001b[0m\u001b[1;33m\u001b[0m\u001b[1;33m\u001b[0m\u001b[0m\n\u001b[0;32m      5\u001b[0m \u001b[1;31m# 例如，创建 wagebins\u001b[0m\u001b[1;33m\u001b[0m\u001b[1;33m\u001b[0m\u001b[1;33m\u001b[0m\u001b[0m\n",
      "\u001b[1;31mNameError\u001b[0m: name 'individual_data' is not defined"
     ]
    }
   ],
   "source": [
    "# 排除自雇工作者\n",
    "individual_data = individual_data[(individual_data['class'] != 5) & (individual_data['class'] != 6) | (individual_data['year'] > 1993)]\n",
    "\n",
    "# 处理工资数据\n",
    "# 例如，创建 wagebins\n",
    "individual_data['wagebins'] = np.select(\n",
    "    [\n",
    "        individual_data['adjusted_wage'] < 125, \n",
    "        (individual_data['adjusted_wage'] >= 125) & (individual_data['adjusted_wage'] < 3000), \n",
    "        individual_data['adjusted_wage'] >= 3000\n",
    "    ], \n",
    "    [\n",
    "        100, \n",
    "        np.floor(individual_data['adjusted_wage'] / 25) * 25, \n",
    "        3000\n",
    "    ], \n",
    "    default=0\n",
    ")\n",
    "\n"
   ]
  },
  {
   "cell_type": "code",
   "execution_count": null,
   "metadata": {},
   "outputs": [],
   "source": [
    "data = pd.read_stata(\"E:/680_temp3.18DID/data/cpiursai1977-2016.dtastate_panels_cents_QJE.dta\")\n",
    "data = data[data['year'].notnull()]\n",
    "numberqrt = data['quarterdate'].max() - data['quarterdate'].min() + 1\n",
    "minqrt = data['quarterdate'].min()\n",
    "data['tagger'] = data.groupby(['wagebins', 'statenum']).cumcount() + 1\n",
    "data = data[data['tagger'] == 1]\n",
    "expanded_data = pd.DataFrame([\n",
    "    [wb, sn, qd] for wb, sn in zip(data['wagebins'], data['statenum'])\n",
    "    for qd in range(minqrt, minqrt + numberqrt)\n",
    "], columns=['wagebins', 'statenum', 'quarterdate'])\n",
    "# 假设 'wagebinstateshell' 已经是你通过上一步生成的 DataFrame\n",
    "# 这里使用 'expanded_data' 代替 'wagebinstateshell'\n",
    "\n",
    "merged_data = pd.merge(data, expanded_data, on=['wagebins', 'statenum', 'quarterdate'], how='outer')\n",
    "for x in ['year', 'cpi', 'blackcountall', 'hispaniccountall', 'teencountall', 'hslcountall', 'hsl40countall', 'hsdcountall', 'hsd40countall', 'gendercountall', 'totalpopulation', 'whitecountall', 'countall']:\n",
    "    merged_data[x] = merged_data.groupby(['statenum', 'quarterdate'])[x].transform(lambda grp: grp.fillna(grp.mean()))\n",
    "for x in ['blackcount', 'dmarriedcount', 'gendercount', 'hispaniccount', 'hslcount', 'hsl40count', 'hsdcount', 'hsd40count', 'teencount', 'totpopcount', 'whitecount', 'FTE_orig']:\n",
    "    merged_data[x] = merged_data[x].fillna(0)\n"
   ]
  },
  {
   "cell_type": "code",
   "execution_count": null,
   "metadata": {},
   "outputs": [],
   "source": []
  }
 ],
 "metadata": {
  "kernelspec": {
   "display_name": "Python 3",
   "language": "python",
   "name": "python3"
  },
  "language_info": {
   "codemirror_mode": {
    "name": "ipython",
    "version": 3
   },
   "file_extension": ".py",
   "mimetype": "text/x-python",
   "name": "python",
   "nbconvert_exporter": "python",
   "pygments_lexer": "ipython3",
   "version": "3.8.0"
  }
 },
 "nbformat": 4,
 "nbformat_minor": 2
}
